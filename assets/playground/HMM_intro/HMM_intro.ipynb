{
 "cells": [
  {
   "cell_type": "markdown",
   "metadata": {},
   "source": [
    "# Hidden Markov  Models\n",
    "\n",
    "The Hidden Markov Model (HMM) is defined by\n",
    "$\\lambda = (A, B, \\pi)$, where:\n",
    "* $A$ - states transition matrix.\n",
    "* $\\pi$ - states initial probability distrubution.\n",
    "* $B$ - observations probability distribution matrix.\n",
    "\n",
    "![HMM representation](https://upload.wikimedia.org/wikipedia/commons/thumb/8/8a/HiddenMarkovModel.svg/300px-HiddenMarkovModel.svg.png)\n",
    "\n",
    "The states of the process $X_{n}$ are called hidden states ,$Y_{n}$ - outputs.\n",
    "\n",
    "$P(X_n)$ defined by values in matrix $A$ and $\\pi$\n",
    "\n",
    "$P(Y_{n}\\mid X_{n})$ emission probability or output probability is defined by values in matrix $B$\n",
    "\n"
   ]
  },
  {
   "cell_type": "code",
   "execution_count": 5,
   "metadata": {},
   "outputs": [
    {
     "name": "stdout",
     "output_type": "stream",
     "text": [
      "1\n",
      "0\n",
      "2\n"
     ]
    }
   ],
   "source": [
    "import numpy as np\n",
    "\n",
    "## Let's take an example from wikipedia\n",
    "states = ('Rainy', 'Sunny')\n",
    "observations = ('walk', 'shop', 'clean')\n",
    " \n",
    "transition_probability = {\n",
    "   'Rainy' : {'Rainy': 0.7, 'Sunny': 0.3},\n",
    "   'Sunny' : {'Rainy': 0.4, 'Sunny': 0.6},\n",
    "   }\n",
    "A = np.array([[0.7, 0.3], [0.4, 0.6]])\n",
    "\n",
    "emission_probability = {\n",
    "   'Rainy' : {'walk': 0.1, 'shop': 0.4, 'clean': 0.5},\n",
    "   'Sunny' : {'walk': 0.6, 'shop': 0.3, 'clean': 0.1},\n",
    "   }\n",
    "B = np.array([[0.1, 0.4, 0.5], [0.6, 0.3, 0.1]])\n",
    "\n",
    "start_probability = {'Rainy': 0.6, 'Sunny': 0.4}\n",
    "pi = np.array([0.6, 0.4])\n",
    "\n",
    "def HMM_Create(A, B, pi):\n",
    "    return {'A':A, 'B':B, 'pi':pi, 'state': None}\n",
    "    \n",
    "def HMM_Sample(hmm):\n",
    "    if hmm['state'] is None:\n",
    "        hmm['state'] = np.random.choice(len(hmm['pi']), 1, p=hmm['pi'])[0]\n",
    "    \n",
    "    x = hmm['state']\n",
    "    x = np.random.choice(len(hmm['A'][x]), 1, p=hmm['A'][x])[0]\n",
    "    hmm['state'] = x\n",
    "    \n",
    "    y = np.random.choice(len(hmm['B'][x]), 1, p=hmm['B'][x])[0]\n",
    "    return y\n",
    "    \n",
    "hmm = HMM_Create(A, B, pi)\n",
    "print(HMM_Sample(hmm))\n",
    "print(HMM_Sample(hmm))\n",
    "print(HMM_Sample(hmm))\n",
    "    \n",
    "\n",
    "    \n"
   ]
  }
 ],
 "metadata": {
  "kernelspec": {
   "display_name": "Python 3",
   "language": "python",
   "name": "python3"
  },
  "language_info": {
   "codemirror_mode": {
    "name": "ipython",
    "version": 3
   },
   "file_extension": ".py",
   "mimetype": "text/x-python",
   "name": "python",
   "nbconvert_exporter": "python",
   "pygments_lexer": "ipython3",
   "version": "3.8.5"
  }
 },
 "nbformat": 4,
 "nbformat_minor": 4
}
