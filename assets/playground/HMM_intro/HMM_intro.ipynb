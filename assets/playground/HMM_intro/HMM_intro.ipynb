{
 "cells": [
  {
   "cell_type": "markdown",
   "metadata": {},
   "source": [
    "# Hidden Markov  Models\n",
    "\n",
    "The Hidden Markov Model (HMM) is defined by\n",
    "$\\lambda = (A, B, \\pi)$, where:\n",
    "* $A$ - states transition matrix.\n",
    "* $\\pi$ - states initial probability distrubution.\n",
    "* $B$ - observations probability distribution matrix.\n",
    "\n",
    "![HMM representation](https://upload.wikimedia.org/wikipedia/commons/thumb/8/8a/HiddenMarkovModel.svg/300px-HiddenMarkovModel.svg.png)\n",
    "\n",
    "The states of the process $X_{n}$ are called hidden states ,$Y_{n}$ - outputs.\n",
    "\n",
    "$P(X_n)$ defined by values in matrix $A$ and $\\pi$\n",
    "\n",
    "$P(Y_{n}\\mid X_{n})$ emission probability or output probability is defined by values in matrix $B$\n",
    "\n"
   ]
  },
  {
   "cell_type": "code",
   "execution_count": 118,
   "metadata": {},
   "outputs": [
    {
     "name": "stdout",
     "output_type": "stream",
     "text": [
      "[0 0 1]\n",
      "[2 2 0]\n"
     ]
    }
   ],
   "source": [
    "import numpy as np\n",
    "\n",
    "## Let's take an example from wikipedia\n",
    "states = ('Rainy', 'Sunny')\n",
    "observations = ('walk', 'shop', 'clean')\n",
    " \n",
    "transition_probability = {\n",
    "   'Rainy' : {'Rainy': 0.7, 'Sunny': 0.3},\n",
    "   'Sunny' : {'Rainy': 0.4, 'Sunny': 0.6},\n",
    "   }\n",
    "A = np.array([[0.7, 0.3], [0.4, 0.6]])\n",
    "\n",
    "emission_probability = {\n",
    "   'Rainy' : {'walk': 0.1, 'shop': 0.4, 'clean': 0.5},\n",
    "   'Sunny' : {'walk': 0.6, 'shop': 0.3, 'clean': 0.1},\n",
    "   }\n",
    "B = np.array([[0.1, 0.4, 0.5], [0.6, 0.3, 0.1]])\n",
    "\n",
    "start_probability = {'Rainy': 0.6, 'Sunny': 0.4}\n",
    "pi = np.array([0.6, 0.4])\n",
    "\n",
    "def HMM_Create(A, B, pi):\n",
    "    return {'A':A, 'B':B, 'pi':pi, 'state': None}\n",
    "    \n",
    "def HMM_Sample(hmm, num_samples=1, record_prob = False, initial_state = None):\n",
    "    pi = hmm['pi']\n",
    "    A = hmm['A']\n",
    "    B = hmm['B']\n",
    "    \n",
    "    card_x = len(A[0])\n",
    "    card_y = len(B[0])\n",
    "\n",
    "    x = np.zeros(num_samples, dtype=int)\n",
    "    y = np.zeros(num_samples, dtype=int)\n",
    "    \n",
    "    if initial_state is not None:\n",
    "        hmm['state'] = initial_state\n",
    "        \n",
    "    if hmm['state'] is None:\n",
    "        state = np.random.choice(len(pi), 1, p=pi)[0]\n",
    "    else:\n",
    "        state = hmm['state']\n",
    "    \n",
    "    \n",
    "    for i in range(0, num_samples):\n",
    "        x[i] = state\n",
    "        y[i] = np.random.choice(card_y, 1, p=B[x[i]])[0]\n",
    "        state = np.random.choice(card_x, 1, p=A[x[i]])[0]\n",
    "            \n",
    "    hmm['state'] = state\n",
    "    return (y, x)\n",
    "    \n",
    "hmm = HMM_Create(A, B, pi)\n",
    "(y, x) = HMM_Sample(hmm, 3)\n",
    "print(x)\n",
    "print(y)\n",
    "\n"
   ]
  },
  {
   "cell_type": "code",
   "execution_count": 122,
   "metadata": {},
   "outputs": [
    {
     "ename": "TypeError",
     "evalue": "'int' object is not iterable",
     "output_type": "error",
     "traceback": [
      "\u001b[0;31m---------------------------------------------------------------------------\u001b[0m",
      "\u001b[0;31mTypeError\u001b[0m                                 Traceback (most recent call last)",
      "\u001b[0;32m<ipython-input-122-9777168a749e>\u001b[0m in \u001b[0;36m<module>\u001b[0;34m\u001b[0m\n\u001b[1;32m     22\u001b[0m \u001b[0;34m\u001b[0m\u001b[0m\n\u001b[1;32m     23\u001b[0m \u001b[0;34m\u001b[0m\u001b[0m\n\u001b[0;32m---> 24\u001b[0;31m \u001b[0mget_prob_seq_direct_method\u001b[0m\u001b[0;34m(\u001b[0m\u001b[0mhmm\u001b[0m\u001b[0;34m,\u001b[0m \u001b[0my\u001b[0m\u001b[0;34m)\u001b[0m\u001b[0;34m\u001b[0m\u001b[0;34m\u001b[0m\u001b[0m\n\u001b[0m",
      "\u001b[0;32m<ipython-input-122-9777168a749e>\u001b[0m in \u001b[0;36mget_prob_seq_direct_method\u001b[0;34m(hmm, y_seq)\u001b[0m\n\u001b[1;32m     12\u001b[0m         \u001b[0mstate_seq\u001b[0m \u001b[0;34m=\u001b[0m \u001b[0mlist\u001b[0m\u001b[0;34m(\u001b[0m\u001b[0mstate_seq\u001b[0m\u001b[0;34m)\u001b[0m\u001b[0;34m\u001b[0m\u001b[0;34m\u001b[0m\u001b[0m\n\u001b[1;32m     13\u001b[0m         \u001b[0mprob_state_seq\u001b[0m \u001b[0;34m=\u001b[0m \u001b[0;36m1.0\u001b[0m\u001b[0;34m\u001b[0m\u001b[0;34m\u001b[0m\u001b[0m\n\u001b[0;32m---> 14\u001b[0;31m         \u001b[0;32mfor\u001b[0m \u001b[0mi\u001b[0m \u001b[0;32min\u001b[0m \u001b[0mlen\u001b[0m\u001b[0;34m(\u001b[0m\u001b[0mstate_seq\u001b[0m\u001b[0;34m)\u001b[0m\u001b[0;34m:\u001b[0m\u001b[0;34m\u001b[0m\u001b[0;34m\u001b[0m\u001b[0m\n\u001b[0m\u001b[1;32m     15\u001b[0m             \u001b[0;32mif\u001b[0m \u001b[0;34m(\u001b[0m\u001b[0mi\u001b[0m \u001b[0;34m==\u001b[0m \u001b[0;36m0\u001b[0m\u001b[0;34m)\u001b[0m\u001b[0;34m:\u001b[0m\u001b[0;34m\u001b[0m\u001b[0;34m\u001b[0m\u001b[0m\n\u001b[1;32m     16\u001b[0m                 \u001b[0mprob_state_seq\u001b[0m \u001b[0;34m=\u001b[0m \u001b[0mpi\u001b[0m\u001b[0;34m[\u001b[0m\u001b[0mstate_seq\u001b[0m\u001b[0;34m[\u001b[0m\u001b[0mi\u001b[0m\u001b[0;34m]\u001b[0m\u001b[0;34m]\u001b[0m\u001b[0;34m\u001b[0m\u001b[0;34m\u001b[0m\u001b[0m\n",
      "\u001b[0;31mTypeError\u001b[0m: 'int' object is not iterable"
     ]
    }
   ],
   "source": [
    "import itertools\n",
    "def get_prob_seq_direct_method(hmm, y_seq):\n",
    "    A = hmm['A']\n",
    "    B = hmm['B']\n",
    "    pi = hmm['pi']\n",
    "    \n",
    "    card_x = len(A[0])\n",
    "    card_y = len(B[0])\n",
    "    \n",
    "    prob_y_seq = 0.0;\n",
    "    for state_seq in itertools.product(range(card_x), repeat = len(y_seq)):\n",
    "        state_seq = list(state_seq)\n",
    "        prob_state_seq = 1.0\n",
    "        for i in len(state_seq):\n",
    "            if (i == 0):\n",
    "                prob_state_seq = pi[state_seq[i]]\n",
    "            else:\n",
    "                prob_state_seq = prob_state_seq * A[state_seq[i-1], state_seq[i]];\n",
    "        \n",
    "        #for i in len(y_seq):\n",
    "            \n",
    "            \n",
    "    \n",
    "get_prob_seq_direct_method(hmm, y)\n"
   ]
  }
 ],
 "metadata": {
  "kernelspec": {
   "display_name": "Python 3",
   "language": "python",
   "name": "python3"
  },
  "language_info": {
   "codemirror_mode": {
    "name": "ipython",
    "version": 3
   },
   "file_extension": ".py",
   "mimetype": "text/x-python",
   "name": "python",
   "nbconvert_exporter": "python",
   "pygments_lexer": "ipython3",
   "version": "3.8.5"
  }
 },
 "nbformat": 4,
 "nbformat_minor": 4
}
